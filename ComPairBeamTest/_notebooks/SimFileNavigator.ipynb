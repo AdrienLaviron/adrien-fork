{
 "cells": [
  {
   "cell_type": "markdown",
   "metadata": {},
   "source": [
    "[![xtensor](Amego_banner.png)](https://asd.gsfc.nasa.gov/amego/)\n",
    "\n",
    "\n",
    "You can find MEGAlib basic documentation here: http://megalibtoolkit.com/home.html"
   ]
  },
  {
   "cell_type": "code",
   "execution_count": 1,
   "metadata": {},
   "outputs": [],
   "source": [
    "import os\n",
    "import numpy as np\n",
    "import pandas as pd\n",
    "import ipywidgets as widgets\n",
    "import matplotlib.pyplot as plt\n",
    "from IPython.display import display, HTML\n",
    "from ipywidgets import Layout, interactive\n",
    "\n",
    "from gwidgets import SelectFilesButton\n",
    "from gParsing import SimFileParser_general, SimFileParser_events, RevFileParser_events\n",
    "from gParsing import DetectorIDdict"
   ]
  },
  {
   "cell_type": "markdown",
   "metadata": {},
   "source": [
    "# Upload your .sim file "
   ]
  },
  {
   "cell_type": "markdown",
   "metadata": {
    "hide_input": true
   },
   "source": [
    "Browse the simulated file (.sim file by cosima run):"
   ]
  },
  {
   "cell_type": "code",
   "execution_count": 2,
   "metadata": {
    "cell_style": "split",
    "hide_input": false,
    "scrolled": false
   },
   "outputs": [
    {
     "data": {
      "application/vnd.jupyter.widget-view+json": {
       "model_id": "06ff0aa4da6f4176b2e9901d57a92648",
       "version_major": 2,
       "version_minor": 0
      },
      "text/plain": [
       "SelectFilesButton(description='Select Files', icon='square-o', style=ButtonStyle(button_color='gray'))"
      ]
     },
     "metadata": {},
     "output_type": "display_data"
    }
   ],
   "source": [
    "browse_file = SelectFilesButton()\n",
    "browse_file"
   ]
  },
  {
   "cell_type": "code",
   "execution_count": 48,
   "metadata": {
    "cell_style": "split"
   },
   "outputs": [
    {
     "data": {
      "text/plain": [
       "'/Users/mnegro/Documents/_AMEGO/_ComPair/_simulations/CosimaSim/HomogeneousBeam_mono30MeV_rndpol_evt1e5_newtrggOK.inc1.id1.sim'"
      ]
     },
     "execution_count": 48,
     "metadata": {},
     "output_type": "execute_result"
    }
   ],
   "source": [
    "sim_file = browse_file.files[0]\n",
    "sim_file"
   ]
  },
  {
   "cell_type": "markdown",
   "metadata": {},
   "source": [
    "## Access the simulation main infos"
   ]
  },
  {
   "cell_type": "code",
   "execution_count": 49,
   "metadata": {},
   "outputs": [],
   "source": [
    "general_infos = SimFileParser_general(sim_file)\n",
    "df_general = pd.DataFrame(general_infos)"
   ]
  },
  {
   "cell_type": "markdown",
   "metadata": {},
   "source": [
    "Here is your dataframe:"
   ]
  },
  {
   "cell_type": "code",
   "execution_count": 50,
   "metadata": {},
   "outputs": [
    {
     "data": {
      "text/html": [
       "<div>\n",
       "<style scoped>\n",
       "    .dataframe tbody tr th:only-of-type {\n",
       "        vertical-align: middle;\n",
       "    }\n",
       "\n",
       "    .dataframe tbody tr th {\n",
       "        vertical-align: top;\n",
       "    }\n",
       "\n",
       "    .dataframe thead th {\n",
       "        text-align: right;\n",
       "    }\n",
       "</style>\n",
       "<table border=\"1\" class=\"dataframe\">\n",
       "  <thead>\n",
       "    <tr style=\"text-align: right;\">\n",
       "      <th></th>\n",
       "      <th>Version</th>\n",
       "      <th>Geometry</th>\n",
       "      <th>Date</th>\n",
       "      <th>MEGAlib</th>\n",
       "    </tr>\n",
       "  </thead>\n",
       "  <tbody>\n",
       "    <tr>\n",
       "      <th>0</th>\n",
       "      <td>101</td>\n",
       "      <td>ComPairBase.geo.setup</td>\n",
       "      <td>2020-05-20</td>\n",
       "      <td>3.00.00</td>\n",
       "    </tr>\n",
       "    <tr>\n",
       "      <th>1</th>\n",
       "      <td></td>\n",
       "      <td></td>\n",
       "      <td>22:27:44</td>\n",
       "      <td></td>\n",
       "    </tr>\n",
       "    <tr>\n",
       "      <th>2</th>\n",
       "      <td></td>\n",
       "      <td></td>\n",
       "      <td></td>\n",
       "      <td></td>\n",
       "    </tr>\n",
       "    <tr>\n",
       "      <th>3</th>\n",
       "      <td></td>\n",
       "      <td></td>\n",
       "      <td></td>\n",
       "      <td></td>\n",
       "    </tr>\n",
       "    <tr>\n",
       "      <th>4</th>\n",
       "      <td></td>\n",
       "      <td></td>\n",
       "      <td></td>\n",
       "      <td></td>\n",
       "    </tr>\n",
       "    <tr>\n",
       "      <th>5</th>\n",
       "      <td></td>\n",
       "      <td></td>\n",
       "      <td></td>\n",
       "      <td></td>\n",
       "    </tr>\n",
       "    <tr>\n",
       "      <th>6</th>\n",
       "      <td></td>\n",
       "      <td></td>\n",
       "      <td></td>\n",
       "      <td></td>\n",
       "    </tr>\n",
       "    <tr>\n",
       "      <th>7</th>\n",
       "      <td></td>\n",
       "      <td></td>\n",
       "      <td></td>\n",
       "      <td></td>\n",
       "    </tr>\n",
       "  </tbody>\n",
       "</table>\n",
       "</div>"
      ],
      "text/plain": [
       "  Version               Geometry        Date  MEGAlib\n",
       "0     101  ComPairBase.geo.setup  2020-05-20  3.00.00\n",
       "1                                   22:27:44         \n",
       "2                                                    \n",
       "3                                                    \n",
       "4                                                    \n",
       "5                                                    \n",
       "6                                                    \n",
       "7                                                    "
      ]
     },
     "execution_count": 50,
     "metadata": {},
     "output_type": "execute_result"
    }
   ],
   "source": [
    "df_general[['Version', 'Geometry','Date', 'MEGAlib']]"
   ]
  },
  {
   "cell_type": "code",
   "execution_count": 51,
   "metadata": {},
   "outputs": [
    {
     "data": {
      "text/html": [
       "<div>\n",
       "<style scoped>\n",
       "    .dataframe tbody tr th:only-of-type {\n",
       "        vertical-align: middle;\n",
       "    }\n",
       "\n",
       "    .dataframe tbody tr th {\n",
       "        vertical-align: top;\n",
       "    }\n",
       "\n",
       "    .dataframe thead th {\n",
       "        text-align: right;\n",
       "    }\n",
       "</style>\n",
       "<table border=\"1\" class=\"dataframe\">\n",
       "  <thead>\n",
       "    <tr style=\"text-align: right;\">\n",
       "      <th></th>\n",
       "      <th>Seed</th>\n",
       "      <th>SimulationStartAreaFarField</th>\n",
       "      <th>BeamType</th>\n",
       "      <th>SpectralType</th>\n",
       "      <th>TB</th>\n",
       "      <th>TE</th>\n",
       "      <th>TS</th>\n",
       "    </tr>\n",
       "  </thead>\n",
       "  <tbody>\n",
       "    <tr>\n",
       "      <th>0</th>\n",
       "      <td>1590027695</td>\n",
       "      <td>0.0</td>\n",
       "      <td>HomogeneousBeam</td>\n",
       "      <td>Mono</td>\n",
       "      <td>0</td>\n",
       "      <td>9.85142e-05</td>\n",
       "      <td>98587</td>\n",
       "    </tr>\n",
       "    <tr>\n",
       "      <th>1</th>\n",
       "      <td></td>\n",
       "      <td></td>\n",
       "      <td>0</td>\n",
       "      <td>30000</td>\n",
       "      <td></td>\n",
       "      <td></td>\n",
       "      <td></td>\n",
       "    </tr>\n",
       "    <tr>\n",
       "      <th>2</th>\n",
       "      <td></td>\n",
       "      <td></td>\n",
       "      <td>0</td>\n",
       "      <td></td>\n",
       "      <td></td>\n",
       "      <td></td>\n",
       "      <td></td>\n",
       "    </tr>\n",
       "    <tr>\n",
       "      <th>3</th>\n",
       "      <td></td>\n",
       "      <td></td>\n",
       "      <td>100</td>\n",
       "      <td></td>\n",
       "      <td></td>\n",
       "      <td></td>\n",
       "      <td></td>\n",
       "    </tr>\n",
       "    <tr>\n",
       "      <th>4</th>\n",
       "      <td></td>\n",
       "      <td></td>\n",
       "      <td>0</td>\n",
       "      <td></td>\n",
       "      <td></td>\n",
       "      <td></td>\n",
       "      <td></td>\n",
       "    </tr>\n",
       "    <tr>\n",
       "      <th>5</th>\n",
       "      <td></td>\n",
       "      <td></td>\n",
       "      <td>0</td>\n",
       "      <td></td>\n",
       "      <td></td>\n",
       "      <td></td>\n",
       "      <td></td>\n",
       "    </tr>\n",
       "    <tr>\n",
       "      <th>6</th>\n",
       "      <td></td>\n",
       "      <td></td>\n",
       "      <td>-1</td>\n",
       "      <td></td>\n",
       "      <td></td>\n",
       "      <td></td>\n",
       "      <td></td>\n",
       "    </tr>\n",
       "    <tr>\n",
       "      <th>7</th>\n",
       "      <td></td>\n",
       "      <td></td>\n",
       "      <td>0.4</td>\n",
       "      <td></td>\n",
       "      <td></td>\n",
       "      <td></td>\n",
       "      <td></td>\n",
       "    </tr>\n",
       "  </tbody>\n",
       "</table>\n",
       "</div>"
      ],
      "text/plain": [
       "         Seed SimulationStartAreaFarField         BeamType SpectralType TB  \\\n",
       "0  1590027695                         0.0  HomogeneousBeam         Mono  0   \n",
       "1                                                        0        30000      \n",
       "2                                                        0                   \n",
       "3                                                      100                   \n",
       "4                                                        0                   \n",
       "5                                                        0                   \n",
       "6                                                       -1                   \n",
       "7                                                      0.4                   \n",
       "\n",
       "            TE     TS  \n",
       "0  9.85142e-05  98587  \n",
       "1                      \n",
       "2                      \n",
       "3                      \n",
       "4                      \n",
       "5                      \n",
       "6                      \n",
       "7                      "
      ]
     },
     "execution_count": 51,
     "metadata": {},
     "output_type": "execute_result"
    }
   ],
   "source": [
    "df_general[['Seed', 'SimulationStartAreaFarField','BeamType','SpectralType','TB','TE','TS']]"
   ]
  },
  {
   "cell_type": "markdown",
   "metadata": {},
   "source": [
    "## Plotting"
   ]
  },
  {
   "cell_type": "markdown",
   "metadata": {},
   "source": [
    "### Load simulated events with pandas"
   ]
  },
  {
   "cell_type": "code",
   "execution_count": 52,
   "metadata": {},
   "outputs": [
    {
     "name": "stdout",
     "output_type": "stream",
     "text": [
      "// ------------------------------- //\n",
      "// Number of triggers found: 50000  //\n",
      "// ------------------------------- //\n"
     ]
    }
   ],
   "source": [
    "sim_events, hit_info = SimFileParser_events(sim_file)\n",
    "df_events = pd.DataFrame(sim_events).T"
   ]
  },
  {
   "cell_type": "markdown",
   "metadata": {},
   "source": [
    "// ------------------------------- //\n",
    "// 1 MeV -> Number of triggers found: 21791  //\n",
    "// ------------------------------- //\n",
    "\n",
    "// ------------------------------- //\n",
    "// 2 MeV -> Number of triggers found: 20390  //\n",
    "// ------------------------------- //\n",
    "\n",
    "// ------------------------------- //\n",
    "// 5 MeV -> Number of triggers found: 22810  //\n",
    "// ------------------------------- //\n",
    "\n",
    "// ------------------------------- //\n",
    "// 10 MeV -> Number of triggers found: 31804  //\n",
    "// ------------------------------- //\n",
    "\n",
    "// ------------------------------- //\n",
    "// 30 MeV -> Number of triggers found: 50464  //\n",
    "// ------------------------------- //"
   ]
  },
  {
   "cell_type": "code",
   "execution_count": 53,
   "metadata": {},
   "outputs": [],
   "source": [
    "df_ia_params = pd.DataFrame(df_events['IA'])\n",
    "#df_ia_params['IA'][0]"
   ]
  },
  {
   "cell_type": "markdown",
   "metadata": {},
   "source": [
    "### Histograms"
   ]
  },
  {
   "cell_type": "markdown",
   "metadata": {
    "cell_style": "split"
   },
   "source": [
    "Select the variables to plot:"
   ]
  },
  {
   "cell_type": "markdown",
   "metadata": {
    "cell_style": "split"
   },
   "source": [
    "Specify number of bins for the histogram"
   ]
  },
  {
   "cell_type": "code",
   "execution_count": 54,
   "metadata": {
    "cell_style": "split"
   },
   "outputs": [
    {
     "data": {
      "application/vnd.jupyter.widget-view+json": {
       "model_id": "3dba94bc51f543c6a3df9516a1669e2a",
       "version_major": 2,
       "version_minor": 0
      },
      "text/plain": [
       "SelectMultiple(description='Param.: ', index=(1,), layout=Layout(width='40%'), options=('TI', 'ED', 'EC', 'NS'…"
      ]
     },
     "metadata": {},
     "output_type": "display_data"
    }
   ],
   "source": [
    "param = widgets.SelectMultiple(\n",
    "    options=['TI', 'ED', 'EC', 'NS'],\n",
    "    value=['ED'],\n",
    "    description='Param.: ',\n",
    "    disabled=False,\n",
    "    layout=Layout(width='40%')\n",
    ")\n",
    "param"
   ]
  },
  {
   "cell_type": "code",
   "execution_count": 55,
   "metadata": {
    "cell_style": "split"
   },
   "outputs": [
    {
     "data": {
      "application/vnd.jupyter.widget-view+json": {
       "model_id": "1bded0fdaa244902bb48d19286d66132",
       "version_major": 2,
       "version_minor": 0
      },
      "text/plain": [
       "IntText(value=100, description='# on bins', layout=Layout(width='40%'))"
      ]
     },
     "metadata": {},
     "output_type": "display_data"
    }
   ],
   "source": [
    "nbins = widgets.IntText(\n",
    "    value=100,\n",
    "    description='# on bins',\n",
    "    disabled=False,\n",
    "    layout=Layout(width='40%')\n",
    ")\n",
    "nbins"
   ]
  },
  {
   "cell_type": "code",
   "execution_count": 56,
   "metadata": {},
   "outputs": [
    {
     "data": {
      "image/png": "[encoded data removed]",
      "text/plain": [
       "<Figure size 504x360 with 1 Axes>"
      ]
     },
     "metadata": {
      "needs_background": "light"
     },
     "output_type": "display_data"
    }
   ],
   "source": [
    "if len(param.value) > 1:\n",
    "    fig, axs = plt.subplots(nrows=1, ncols=len(param.value), figsize=(21,4))\n",
    "    for i, p in enumerate(param.value):\n",
    "        axs[i].hist(np.array(df_events[p]), bins=nbins.value, color='teal', alpha=0.8,\n",
    "                   label='%i evts'%len(df_events[p]))\n",
    "        axs[i].set_title(p, size=17)\n",
    "        axs[i].set_xlabel('%s units'%p, size=15)\n",
    "        axs[i].set_ylabel('Number of counts', size=15)\n",
    "        axs[i].set_yscale('log')\n",
    "        axs[i].legend(fontsize=15)\n",
    "    plt.show()\n",
    "else:\n",
    "    plt.figure(figsize=(7,5))\n",
    "    plt.hist(np.array(df_events[param.value[0]]), bins=nbins.value, color='teal', alpha=0.8,\n",
    "            label='%i evts'%len(df_events[param.value[0]]))\n",
    "    plt.title(param.value[0], size=17)\n",
    "    plt.xlabel('%s units'%param.value[0], size=15)\n",
    "    plt.ylabel('Number of counts', size=15)\n",
    "    plt.yscale('log')\n",
    "    plt.legend(fontsize=15)\n",
    "    plt.show()"
   ]
  },
  {
   "cell_type": "markdown",
   "metadata": {},
   "source": [
    "### Energy deposit in subsystems"
   ]
  },
  {
   "cell_type": "code",
   "execution_count": 57,
   "metadata": {},
   "outputs": [
    {
     "data": {
      "text/html": [
       "<div>\n",
       "<style scoped>\n",
       "    .dataframe tbody tr th:only-of-type {\n",
       "        vertical-align: middle;\n",
       "    }\n",
       "\n",
       "    .dataframe tbody tr th {\n",
       "        vertical-align: top;\n",
       "    }\n",
       "\n",
       "    .dataframe thead th {\n",
       "        text-align: right;\n",
       "    }\n",
       "</style>\n",
       "<table border=\"1\" class=\"dataframe\">\n",
       "  <thead>\n",
       "    <tr style=\"text-align: right;\">\n",
       "      <th></th>\n",
       "      <th>DetID</th>\n",
       "      <th>EnDep</th>\n",
       "      <th>HitX</th>\n",
       "      <th>HitY</th>\n",
       "      <th>HitZ</th>\n",
       "    </tr>\n",
       "  </thead>\n",
       "  <tbody>\n",
       "    <tr>\n",
       "      <th>0</th>\n",
       "      <td>2</td>\n",
       "      <td>993.02311</td>\n",
       "      <td>-0.85000</td>\n",
       "      <td>-0.08162</td>\n",
       "      <td>-11.45000</td>\n",
       "    </tr>\n",
       "    <tr>\n",
       "      <th>1</th>\n",
       "      <td>2</td>\n",
       "      <td>0.00671</td>\n",
       "      <td>-0.85000</td>\n",
       "      <td>-0.05766</td>\n",
       "      <td>-11.45000</td>\n",
       "    </tr>\n",
       "    <tr>\n",
       "      <th>2</th>\n",
       "      <td>2</td>\n",
       "      <td>292.76171</td>\n",
       "      <td>0.85000</td>\n",
       "      <td>-0.02685</td>\n",
       "      <td>-11.45000</td>\n",
       "    </tr>\n",
       "    <tr>\n",
       "      <th>3</th>\n",
       "      <td>2</td>\n",
       "      <td>10975.85938</td>\n",
       "      <td>0.85000</td>\n",
       "      <td>0.54836</td>\n",
       "      <td>-11.45000</td>\n",
       "    </tr>\n",
       "    <tr>\n",
       "      <th>4</th>\n",
       "      <td>2</td>\n",
       "      <td>264.76916</td>\n",
       "      <td>-0.85000</td>\n",
       "      <td>2.67507</td>\n",
       "      <td>-11.45000</td>\n",
       "    </tr>\n",
       "    <tr>\n",
       "      <th>...</th>\n",
       "      <td>...</td>\n",
       "      <td>...</td>\n",
       "      <td>...</td>\n",
       "      <td>...</td>\n",
       "      <td>...</td>\n",
       "    </tr>\n",
       "    <tr>\n",
       "      <th>610872</th>\n",
       "      <td>7</td>\n",
       "      <td>2288.15939</td>\n",
       "      <td>-1.73542</td>\n",
       "      <td>0.92212</td>\n",
       "      <td>-7.86202</td>\n",
       "    </tr>\n",
       "    <tr>\n",
       "      <th>610873</th>\n",
       "      <td>7</td>\n",
       "      <td>1855.26066</td>\n",
       "      <td>-1.89061</td>\n",
       "      <td>0.52646</td>\n",
       "      <td>-7.61661</td>\n",
       "    </tr>\n",
       "    <tr>\n",
       "      <th>610874</th>\n",
       "      <td>7</td>\n",
       "      <td>103.69902</td>\n",
       "      <td>-2.61958</td>\n",
       "      <td>1.43583</td>\n",
       "      <td>-7.24964</td>\n",
       "    </tr>\n",
       "    <tr>\n",
       "      <th>610875</th>\n",
       "      <td>7</td>\n",
       "      <td>8.83258</td>\n",
       "      <td>-2.26394</td>\n",
       "      <td>1.66629</td>\n",
       "      <td>-7.06315</td>\n",
       "    </tr>\n",
       "    <tr>\n",
       "      <th>610876</th>\n",
       "      <td>7</td>\n",
       "      <td>855.68660</td>\n",
       "      <td>-3.88647</td>\n",
       "      <td>4.41079</td>\n",
       "      <td>-7.27715</td>\n",
       "    </tr>\n",
       "  </tbody>\n",
       "</table>\n",
       "<p>610877 rows × 5 columns</p>\n",
       "</div>"
      ],
      "text/plain": [
       "        DetID        EnDep     HitX     HitY      HitZ\n",
       "0           2    993.02311 -0.85000 -0.08162 -11.45000\n",
       "1           2      0.00671 -0.85000 -0.05766 -11.45000\n",
       "2           2    292.76171  0.85000 -0.02685 -11.45000\n",
       "3           2  10975.85938  0.85000  0.54836 -11.45000\n",
       "4           2    264.76916 -0.85000  2.67507 -11.45000\n",
       "...       ...          ...      ...      ...       ...\n",
       "610872      7   2288.15939 -1.73542  0.92212  -7.86202\n",
       "610873      7   1855.26066 -1.89061  0.52646  -7.61661\n",
       "610874      7    103.69902 -2.61958  1.43583  -7.24964\n",
       "610875      7      8.83258 -2.26394  1.66629  -7.06315\n",
       "610876      7    855.68660 -3.88647  4.41079  -7.27715\n",
       "\n",
       "[610877 rows x 5 columns]"
      ]
     },
     "execution_count": 57,
     "metadata": {},
     "output_type": "execute_result"
    }
   ],
   "source": [
    "df_hit = pd.DataFrame(hit_info)\n",
    "df_hit\n"
   ]
  },
  {
   "cell_type": "markdown",
   "metadata": {},
   "source": [
    "Select the subsystem(s) you want:"
   ]
  },
  {
   "cell_type": "code",
   "execution_count": 13,
   "metadata": {
    "cell_style": "split"
   },
   "outputs": [
    {
     "data": {
      "application/vnd.jupyter.widget-view+json": {
       "model_id": "53b28a0772c44dc08682d4960817f674",
       "version_major": 2,
       "version_minor": 0
      },
      "text/plain": [
       "SelectMultiple(description='Param.: ', layout=Layout(height='90%', width='30%'), options=(1, 2, 7), value=())"
      ]
     },
     "metadata": {},
     "output_type": "display_data"
    }
   ],
   "source": [
    "subsys = widgets.SelectMultiple(\n",
    "    options=list(np.unique(df_hit['DetID'])),\n",
    "    description='Param.: ',\n",
    "    disabled=False,\n",
    "    layout=Layout(width='30%', height='90%')\n",
    ")\n",
    "subsys"
   ]
  },
  {
   "cell_type": "code",
   "execution_count": 14,
   "metadata": {
    "cell_style": "split"
   },
   "outputs": [
    {
     "data": {
      "application/vnd.jupyter.widget-view+json": {
       "model_id": "2b6ffb67eb964fc5b4df86880bc86ace",
       "version_major": 2,
       "version_minor": 0
      },
      "text/plain": [
       "IntText(value=100, description='# on bins', layout=Layout(width='40%'))"
      ]
     },
     "metadata": {},
     "output_type": "display_data"
    }
   ],
   "source": [
    "nbins2 = widgets.IntText(\n",
    "    value=100,\n",
    "    description='# on bins',\n",
    "    disabled=False,\n",
    "    layout=Layout(width='40%')\n",
    ")\n",
    "nbins2"
   ]
  },
  {
   "cell_type": "code",
   "execution_count": 46,
   "metadata": {},
   "outputs": [],
   "source": [
    "#df_hit_sub = df_hit.loc[df_hit['DetID'] == 2]\n",
    "#df_hit_sub"
   ]
  },
  {
   "cell_type": "code",
   "execution_count": 58,
   "metadata": {},
   "outputs": [
    {
     "data": {
      "image/png": "[encoded data removed]",
      "text/plain": [
       "<Figure size 1512x288 with 3 Axes>"
      ]
     },
     "metadata": {
      "needs_background": "light"
     },
     "output_type": "display_data"
    }
   ],
   "source": [
    "detIDdict = DetectorIDdict()\n",
    "if len(subsys.value) > 1:\n",
    "    fig, axs = plt.subplots(nrows=1, ncols=len(subsys.value), figsize=(21,4))\n",
    "    for i, s in enumerate(subsys.value):\n",
    "        df_hit_sub = df_hit.loc[df_hit['DetID'] == s]\n",
    "        axs[i].hist(np.array(df_hit_sub['EnDep']), bins=nbins2.value, color='teal', alpha=0.8,\n",
    "                    label='%i hits'%len(df_hit_sub))\n",
    "        axs[i].set_title('Energy Deposit in %s'%detIDdict[str(s)], size=16)\n",
    "        axs[i].set_xlabel('Energy [keV]', size=15)\n",
    "        axs[i].set_ylabel('Number of counts', size=15)\n",
    "        axs[i].set_yscale('log')\n",
    "        axs[i].legend(fontsize=15)\n",
    "    plt.show()\n",
    "else:\n",
    "    plt.figure(figsize=(7,5))\n",
    "    df_hit_sub = df_hit.loc[df_hit['DetID'] == subsys.value[0]]\n",
    "    plt.hist(np.array(df_hit_sub['EnDep']), bins=nbins2.value, color='teal', alpha=0.8,\n",
    "            label='%i evts'%len(df_hit_sub))\n",
    "    plt.title('Energy Deposit in subsystem %s'%detIDdict[str(subsys.value[0])], size=16)\n",
    "    plt.xlabel('Energy [keV]', size=15)\n",
    "    plt.ylabel('Number of counts', size=15)\n",
    "    plt.yscale('log')\n",
    "    plt.legend(fontsize=15)\n",
    "    plt.show()"
   ]
  },
  {
   "cell_type": "markdown",
   "metadata": {},
   "source": [
    "### Hit distribution along the axes in the MEGA style calorimeter"
   ]
  },
  {
   "cell_type": "code",
   "execution_count": 16,
   "metadata": {
    "collapsed": true
   },
   "outputs": [
    {
     "data": {
      "image/png": "[encoded data removed]",
      "text/plain": [
       "<Figure size 504x360 with 1 Axes>"
      ]
     },
     "metadata": {
      "needs_background": "light"
     },
     "output_type": "display_data"
    },
    {
     "data": {
      "image/png": "[encoded data removed]",
      "text/plain": [
       "<Figure size 504x360 with 1 Axes>"
      ]
     },
     "metadata": {
      "needs_background": "light"
     },
     "output_type": "display_data"
    },
    {
     "data": {
      "image/png": "[encoded data removed]",
      "text/plain": [
       "<Figure size 504x360 with 1 Axes>"
      ]
     },
     "metadata": {
      "needs_background": "light"
     },
     "output_type": "display_data"
    }
   ],
   "source": [
    "plt.figure(figsize=(7,5))\n",
    "df_hit_sub = df_hit.loc[df_hit['DetID'] == 2]\n",
    "plt.hist(np.array(df_hit_sub['HitX']), bins=nbins2.value, color='teal', alpha=0.8,\n",
    "            label='%i evts'%len(df_hit_sub))\n",
    "plt.title('x axis hit distribution %s'%detIDdict[str(subsys.value[0])], size=16)\n",
    "plt.xlabel('x [cm]', size=15)\n",
    "plt.ylabel('Number of counts', size=15)\n",
    "plt.yscale('log')\n",
    "plt.legend(fontsize=15)\n",
    "\n",
    "plt.figure(figsize=(7,5))\n",
    "df_hit_sub = df_hit.loc[df_hit['DetID'] == 2]\n",
    "plt.hist(np.array(df_hit_sub['HitY']), bins=nbins2.value, color='teal', alpha=0.8,\n",
    "            label='%i evts'%len(df_hit_sub))\n",
    "plt.title('y axis hit distribution %s'%detIDdict[str(subsys.value[0])], size=16)\n",
    "plt.xlabel('y [cm]', size=15)\n",
    "plt.ylabel('Number of counts', size=15)\n",
    "plt.yscale('log')\n",
    "plt.legend(fontsize=15)\n",
    "\n",
    "plt.figure(figsize=(7,5))\n",
    "df_hit_sub = df_hit.loc[df_hit['DetID'] == 2]\n",
    "plt.hist(np.array(df_hit_sub['HitZ']), bins=nbins2.value, color='teal', alpha=0.8,\n",
    "            label='%i evts'%len(df_hit_sub))\n",
    "plt.title('z axis hit distribution %s'%detIDdict[str(subsys.value[0])], size=16)\n",
    "plt.xlabel('z [cm]', size=15)\n",
    "plt.ylabel('Number of counts', size=15)\n",
    "plt.yscale('log')\n",
    "plt.legend(fontsize=15)\n",
    "\n",
    "plt.show()"
   ]
  },
  {
   "cell_type": "code",
   "execution_count": 67,
   "metadata": {},
   "outputs": [
    {
     "data": {
      "image/png": "[encoded data removed]",
      "text/plain": [
       "<Figure size 432x288 with 1 Axes>"
      ]
     },
     "metadata": {
      "needs_background": "light"
     },
     "output_type": "display_data"
    }
   ],
   "source": [
    "tot_sim_evt = 100000\n",
    "trigg_evt = np.array([21791, 20390, 22810, 31804, 50464])\n",
    "trigg_p100 = trigg_evt/tot_sim_evt\n",
    "energy = np.array([1, 2, 5, 10, 30])\n",
    "\n",
    "plt.figure()\n",
    "plt.title('Trigger Efficiency', size=16)\n",
    "plt.plot(energy, trigg_p100, 'o-', color='lightcoral')\n",
    "plt.xscale('log')\n",
    "plt.ylim(0, 1)\n",
    "plt.xlabel('Energy [MeV]', size=14)\n",
    "plt.ylabel('$\\epsilon$', size=14)\n",
    "plt.show()"
   ]
  },
  {
   "cell_type": "markdown",
   "metadata": {},
   "source": [
    "# Upload your .tra file"
   ]
  },
  {
   "cell_type": "code",
   "execution_count": 72,
   "metadata": {},
   "outputs": [],
   "source": [
    "PATH = '/Users/mnegro/Documents/_AMEGO/_ComPair/_simulations/CosimaSim'\n",
    "tra_file_1MeV = os.path.join(PATH, 'HomogeneousBeam_mono1MeV_rndpol_evt1e5_newtrggOK.inc1.id1.tra')"
   ]
  },
  {
   "cell_type": "code",
   "execution_count": 73,
   "metadata": {
    "scrolled": false
   },
   "outputs": [
    {
     "name": "stdout",
     "output_type": "stream",
     "text": [
      "Trigger statistics:\n",
      "\n",
      "  Not triggered events: ..................................   3384\n",
      "\n",
      "  Number of vetoed events: ...............................      0\n",
      "\n",
      "  Number of triggered events: ............................  18407\n",
      "\n",
      "    Raised triggers (multiples possible)\n",
      "\n",
      "      MainTriggerCZT: ....................................   1358\n",
      "\n",
      "      MainTriggerCZT2: ...................................  13211\n",
      "\n",
      "      MainTriggerCsI: ....................................    464\n",
      "\n",
      "      MainTriggerSi: .....................................   4097\n",
      "\n",
      "\n",
      "\n",
      "\n",
      "\n",
      "----------------------------------------------------------------------------\n",
      "\n",
      "\n",
      "\n",
      "Event statistics for all triggered (!) events:\n",
      "\n",
      "  Number of events .......................................  18407 (100.000%)\n",
      "\n",
      "  Number of events, which passed event selections ........   2712 ( 14.734%)\n",
      "\n",
      "  Reconstructable events .................................  18407 (100.000%)\n",
      "\n",
      "       Single-site  ......................................    945 (  5.134%)\n",
      "\n",
      "       Compton  ..........................................   1765 (  9.589%)\n",
      "\n",
      "           Decay  ........................................      0 (  0.000%)\n",
      "\n",
      "       Pair  .............................................      0 (  0.000%)\n",
      "\n",
      "       Muon  .............................................      2 (  0.011%)\n",
      "\n",
      "       PET . .............................................      0 (  0.000%)\n",
      "\n",
      "       Multi  ............................................      0 (  0.000%)\n",
      "\n",
      "\n",
      "\n",
      "Rejection reasons for not reconstructable events:\n",
      "\n",
      "  Event consists of nothing but one track ................   2568\n",
      "\n",
      "  Event consists of nothing but two tracks ...............      1\n",
      "\n",
      "  Track is not valid .....................................      2\n",
      "\n",
      "  Start in tracker required, but no hits in tracker ......   7811\n",
      "\n",
      "  Event starts not in D1 .................................    105\n",
      "\n",
      "  Electron direction is not valid ........................      3\n",
      "\n",
      "  No good CSR combination ................................   5203\n",
      "\n",
      "  Comptel type with incompatible kinematics ..............      2\n",
      "\n",
      "    Total ................................................  15695\n",
      "\n",
      "\n",
      "\n"
     ]
    }
   ],
   "source": [
    "df_1MeV = RevFileParser_events(tra_file_1MeV)"
   ]
  },
  {
   "cell_type": "markdown",
   "metadata": {},
   "source": [
    "## Plotting"
   ]
  },
  {
   "cell_type": "markdown",
   "metadata": {},
   "source": [
    "Given a dataframe ( df_ ), you can produce histograms of some of the parameters stored:\n",
    "* df_['PE'] selects the reconstructed Photon Energy\n",
    "* df_['SP'] selects the energy of the Scattered photon\n",
    "* df_['RE'] selects the energy of the Recoiled Electron\n",
    "\n",
    "So the distributions of df_['SP'] and df_['RE'] should be specular, while df_['PE'] should be peaked at the energy of the simulated monoenergetic beam (If a broad spectrum source is simulated this latter consideration is not valid)."
   ]
  },
  {
   "cell_type": "code",
   "execution_count": 76,
   "metadata": {
    "scrolled": false
   },
   "outputs": [
    {
     "data": {
      "image/png": "[encoded data removed]",
      "text/plain": [
       "<Figure size 936x720 with 1 Axes>"
      ]
     },
     "metadata": {},
     "output_type": "display_data"
    }
   ],
   "source": [
    "plt.figure(figsize=(13., 10), facecolor='white')\n",
    "plt.hist(np.array(df_1MeV['PE']), bins=60, color='teal', alpha=1, histtype='step', \n",
    "            label='%i PE evts'%len(df_1MeV['PE']))\n",
    "plt.hist(np.array(df_1MeV['SP']), bins=60, color='orange', alpha=1, histtype='step', \n",
    "            label='%i SP evts'%len(df_1MeV['SP']))\n",
    "plt.hist(np.array(df_1MeV['RE']), bins=60, color='lightcoral', alpha=1, histtype='step',\n",
    "            label='%i RE evts'%len(df_1MeV['RE']))\n",
    "plt.title('Recon Photon Energy', size=17)\n",
    "plt.xlabel('keV', size=15)\n",
    "plt.ylabel('Number of counts', size=15)\n",
    "plt.yscale('log')\n",
    "plt.legend(fontsize=15, loc=2)\n",
    "plt.show()"
   ]
  },
  {
   "cell_type": "code",
   "execution_count": null,
   "metadata": {},
   "outputs": [],
   "source": []
  },
  {
   "cell_type": "code",
   "execution_count": null,
   "metadata": {},
   "outputs": [],
   "source": []
  }
 ],
 "metadata": {
  "hide_input": false,
  "kernelspec": {
   "display_name": "Python 3",
   "language": "python",
   "name": "python3"
  },
  "language_info": {
   "codemirror_mode": {
    "name": "ipython",
    "version": 3
   },
   "file_extension": ".py",
   "mimetype": "text/x-python",
   "name": "python",
   "nbconvert_exporter": "python",
   "pygments_lexer": "ipython3",
   "version": "3.7.3"
  },
  "latex_envs": {
   "LaTeX_envs_menu_present": true,
   "autoclose": false,
   "autocomplete": true,
   "bibliofile": "biblio.bib",
   "cite_by": "apalike",
   "current_citInitial": 1,
   "eqLabelWithNumbers": true,
   "eqNumInitial": 1,
   "hotkeys": {
    "equation": "Ctrl-E",
    "itemize": "Ctrl-I"
   },
   "labels_anchors": false,
   "latex_user_defs": false,
   "report_style_numbering": false,
   "user_envs_cfg": false
  },
  "toc": {
   "base_numbering": 1,
   "nav_menu": {},
   "number_sections": true,
   "sideBar": true,
   "skip_h1_title": false,
   "title_cell": "Table of Contents",
   "title_sidebar": "Contents",
   "toc_cell": false,
   "toc_position": {
    "height": "728px",
    "left": "303px",
    "top": "165.6666259765625px",
    "width": "450.23895263671875px"
   },
   "toc_section_display": true,
   "toc_window_display": true
  },
  "varInspector": {
   "cols": {
    "lenName": 16,
    "lenType": 16,
    "lenVar": 40
   },
   "kernels_config": {
    "python": {
     "delete_cmd_postfix": "",
     "delete_cmd_prefix": "del ",
     "library": "var_list.py",
     "varRefreshCmd": "print(var_dic_list())"
    },
    "r": {
     "delete_cmd_postfix": ") ",
     "delete_cmd_prefix": "rm(",
     "library": "var_list.r",
     "varRefreshCmd": "cat(var_dic_list()) "
    }
   },
   "types_to_exclude": [
    "module",
    "function",
    "builtin_function_or_method",
    "instance",
    "_Feature"
   ],
   "window_display": false
  }
 },
 "nbformat": 4,
 "nbformat_minor": 2
}
